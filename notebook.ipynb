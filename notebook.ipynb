{
  "nbformat": 4,
  "nbformat_minor": 0,
  "metadata": {
    "colab": {
      "private_outputs": true,
      "provenance": [],
      "toc_visible": true,
      "include_colab_link": true
    },
    "kernelspec": {
      "name": "python3",
      "display_name": "Python 3"
    },
    "language_info": {
      "name": "python"
    }
  },
  "cells": [
    {
      "cell_type": "markdown",
      "metadata": {
        "id": "view-in-github",
        "colab_type": "text"
      },
      "source": [
        "<a href=\"https://colab.research.google.com/github/AdityaMayukhSom/llms-with-pointers/blob/main/notebook.ipynb\" target=\"_parent\"><img src=\"https://colab.research.google.com/assets/colab-badge.svg\" alt=\"Open In Colab\"/></a>"
      ]
    },
    {
      "cell_type": "code",
      "source": [
        "# !python3 --version\n",
        "# !sudo apt-get update -y\n",
        "# !sudo apt-get install python3.12\n",
        "# !sudo apt-get install python3.12-dev\n",
        "# !sudo apt-get install python3.12-distutils\n",
        "# !sudo apt-get install libpython3.12-dev\n",
        "# !sudo apt-get install python3.12-venv\n",
        "\n",
        "# change alternatives\n",
        "# !sudo update-alternatives --install /usr/bin/python3 python3 /usr/bin/python3.10 1\n",
        "# !sudo update-alternatives --install /usr/bin/python3 python3 /usr/bin/python3.12 2\n",
        "\n",
        "# check python version\n",
        "# !python3 --version\n",
        "# !sudo apt install python3-pip"
      ],
      "metadata": {
        "id": "mxY_ycasxVXf"
      },
      "execution_count": null,
      "outputs": []
    },
    {
      "cell_type": "code",
      "source": [
        "from google.colab import drive\n",
        "drive.mount('/content/drive')"
      ],
      "metadata": {
        "id": "tU7yGJhPwJRb"
      },
      "execution_count": null,
      "outputs": []
    },
    {
      "cell_type": "code",
      "source": [
        "!python3 --version\n",
        "!pip3 --version\n",
        "!pip3 install -qU poetry"
      ],
      "metadata": {
        "id": "UDhW_JG92Iyy"
      },
      "execution_count": null,
      "outputs": []
    },
    {
      "cell_type": "code",
      "source": [
        "%cd '/content'\n",
        "!rm -r '/content/llms-with-pointers'\n",
        "!git clone https://github.com/AdityaMayukhSom/llms-with-pointers.git\n",
        "%cd '/content/llms-with-pointers'"
      ],
      "metadata": {
        "id": "Q4KWTFA9BwDZ"
      },
      "execution_count": null,
      "outputs": []
    },
    {
      "cell_type": "code",
      "source": [
        "!poetry install"
      ],
      "metadata": {
        "id": "bji8UG_3AfSJ"
      },
      "execution_count": null,
      "outputs": []
    },
    {
      "cell_type": "code",
      "source": [
        "!poetry run python main.py \\\n",
        "    --mode test \\\n",
        "    --data_dir '/content/drive/MyDrive/Datasets/data' \\\n",
        "    --test_result_dir '/content/drive/MyDrive/Datasets/result'"
      ],
      "metadata": {
        "id": "QqlsO2qlAhPy"
      },
      "execution_count": null,
      "outputs": []
    },
    {
      "cell_type": "code",
      "source": [],
      "metadata": {
        "id": "1bw8ICS3EyJh"
      },
      "execution_count": null,
      "outputs": []
    }
  ]
}